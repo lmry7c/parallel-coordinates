{
 "cells": [
  {
   "cell_type": "code",
   "execution_count": null,
   "metadata": {
    "collapsed": true
   },
   "outputs": [],
   "source": [
    "import pandas as pd"
   ]
  },
  {
   "cell_type": "code",
   "execution_count": null,
   "metadata": {},
   "outputs": [],
   "source": [
    "df = pd.read_csv(\"datasets/dataset47.csv\")\n",
    "df['Country Name']\n",
    "\n"
   ]
  },
  {
   "cell_type": "code",
   "execution_count": null,
   "metadata": {
    "collapsed": true
   },
   "outputs": [],
   "source": [
    "x = df.iloc[:,(1)]\n",
    "regions = {'Latin America and the Caribbean': {\"Argentina\", \"Antigua and Barbuda\", \"Barbados\", \"Belize\", \"Bolivia\", \"Brazil\", \"Chile\", \"Colombia\", \"Costa Rica\", \"Cuba\", \"Dominica\", \"Dominican Republic\", \"Ecuador\", \"El Salvador\", \"Grenada\", \"Guatemala\", \"Guyana\", \"Haiti\", \"Honduras\", \"Jamaica\", \"Mexico\", \"Nicaragua\", \"Panama\", \"Paraguay\", \"Peru\", \"St. Kitts and Nevis\", \"St. Lucia\", \"St. Vincent and the Grenadines\", \"Suriname\", \"Trinidad and Tobago\", \"Uruguay\", \"Republica Bolivariana de Venezuela\", \"Venezuela, RB\", \"Bahamas, The\"},\n",
    "           'East Asia and Pacific': {\"American Samoa\", \"Brunei Darussalam\", \"Cambodia\", \"China\", \"Macao SAR, China\", \"Hong Kong SAR, China\", \"Fiji\", \"Indonesia\", \"Japan\", \"Kiribati\", \"Singapore\", \"Democratic Republic of Korea\", \"Korea, Rep.\", \"Republic of Korea\", \"Lao People's Democratic Republic\", \"Lao PDR\", \"Malaysia\", \"Marshall Islands\", \"Federated States of Micronesia\", \"Mongolia\", \"Myanmar\", \"Palau\", \"Papua New Guinea\", \"Philippines\", \"Samoa\", \"Solomon Islands\", \"Thailand\", \"Timor-Leste\", \"Tonga\", \"Tuvalu\", \"Vanuatu\", \"Vietnam\", \"Micronesia, Fed. Sts.\"},\n",
    "           'North America': {\"Canada\", \"The United States\", \"United States\"},\n",
    "           'Africa': {\"Angola\" ,  \"Benin\" ,  \"Botswana\" ,  \"Burkina Faso\" ,  \"Burundi\" ,  \"Cameroon\" ,  \"Cape Verde\" ,  \"Cote d'Ivoire\", \"Central African Republic\" ,  \"Cabo Verde\", \"Chad\" ,  \"Commoros\" ,  \"Democratic Republic of Congo\" ,  \"Republic of Congo\" ,  \"Congo, Rep.\", \"Congo, Dem. Rep.\", \"Equatorial Guinea\" ,  \"Eritrea\" ,  \"Ethiopia\" ,  \"Gabon\" ,  \"The Gambia\" , \"Gambia, The\",  \"Ghana\" ,  \"Guinea\" ,  \"Guinea-Bissau\" ,  \"Kenya\" ,  \"Lesotho\" ,  \"Liberia\" ,  \"Madagascar\" ,  \"Malawi\" ,  \"Mali\" ,  \"Mauritania\" ,  \"Mauritius\" ,  \"Mozambique\" ,  \"Namibia\" ,  \"Niger\" ,  \"Nigeria\" ,  \"Rwanda\" ,  \"Senegal\" ,  \"Seychelles\" ,  \"Sierra Leone\" ,  \"Somalia\" ,  \"South Africa\" ,  \"South Sudan\" ,  \"Sudan\" ,  \"Swaziland\" ,  \"Tanzania\" ,  \"Togo\" ,  \"Sao Tome and Principe\", \"Uganda\" ,  \"Zambia\" ,  \"Zimbabwe\"},\n",
    "           'Europe and Central Asia': {\"Albania\", \"Armenia\", \"Azerbaijan\", \"Belarus\", \"Bosnia and Herzegovina\", \"Georgia\", \"Kazakhstan\", \"Kosovo\", \"Kyrgyz Republic\", \"Former Yugoslav Republic of Macedonia\", \"Macedonia, FYR\", \"Moldova\", \"Montenegro\", \"Russian Federation\", \"Slovak Republic\", \"Serbia\", \"Tajikistan\", \"Turkey\", \"Turkmenistan\", \"Ukraine\", \"Uzbekistan\"},\n",
    "           'Middle East and North Africa': {\"Algeria\", \"Djibouti\", \"Arab Republic of Egypt\", \"Egypt, Arab Rep.\", \"Islamic Republic of Iran\", \"Iran, Islamic Rep.\", \"Iraq\", \"Israel\", \"Jordan\", \"Kuwait\", \"Lebanon\", \"Libya\", \"Morocco\", \"Syrian Arab Republic\", \"Tunisia\", \"West Bank and Gaza\", \"the Republic of Yemen\", \"United Arab Emirates\", \"Qatar\", \"Yemen, Rep.\", \"Bahrain\", \"Saudi Arabia\", \"Oman\"},\n",
    "           'South Asia': {\"Afghanistan\", \"Bangladesh\", \"Bhutan\", \"India\", \"Maldives\", \"Nepal\", \"Pakistan\", \"Sri Lanka\"},\n",
    "           'EU': {\"Austria\", \"Belgium\", \"Cyprus\", \"Czech Republic\", \"Denmark\", \"Estonia\", \"Finland\", \"France\", \"Germany\", \"Greece\", \"Hungary\", \"Ireland\", \"Italy\", \"Luxembourg\", \"Malta\", \"Netherlands\", \"Portugal\", \"Slovakia\", \"Slovenia\", \"Spain\", \"Switzerland\", \"Sweden\", \"United Kingdom\", \"Norway\"},\n",
    "           'Europe and Central Asia: Members of EU': {\"Bulgaria\", \"Croatia\", \"Poland\", \"Romania\", \"Latvia\", \"Lithuania\"},\n",
    "           'Oceania': {\"Australia\", \"New Caledonia\", \"Nauru\", \"New Zealand\" }\n",
    "          }\n",
    "\n",
    "g20 = {\"Argentina\", \"Austria\", \"Brazil\", \"China\", \"Canada\", \"The United States\", \"United States\", \"France\", \"Germany\", \"India\", \"Indonesia\", \"Japan\", \"Democratic Republic of Korea\", \"Korea, Rep.\", \"Republic of Korea\", \"Mexico\", \"Russia\", \"South Africa\", \"Turkey\", \"United Kingdom\"}\n",
    "\n",
    "category = regions\n",
    "group = []"
   ]
  },
  {
   "cell_type": "code",
   "execution_count": null,
   "metadata": {},
   "outputs": [],
   "source": [
    "for names in x:\n",
    "    for key in category:\n",
    "        if names in category[key]:\n",
    "            group.append(key)\n",
    "            print len(key)"
   ]
  },
  {
   "cell_type": "code",
   "execution_count": null,
   "metadata": {},
   "outputs": [],
   "source": [
    "print len(group)\n",
    "print len(df['Country Name'])"
   ]
  },
  {
   "cell_type": "code",
   "execution_count": null,
   "metadata": {},
   "outputs": [],
   "source": [
    "df['group'] = group       \n",
    "\n",
    "df.to_csv('test.csv', index = False)\n"
   ]
  },
  {
   "cell_type": "code",
   "execution_count": null,
   "metadata": {
    "collapsed": true
   },
   "outputs": [],
   "source": []
  }
 ],
 "metadata": {
  "kernelspec": {
   "display_name": "Python 2",
   "language": "python",
   "name": "python2"
  },
  "language_info": {
   "codemirror_mode": {
    "name": "ipython",
    "version": 2
   },
   "file_extension": ".py",
   "mimetype": "text/x-python",
   "name": "python",
   "nbconvert_exporter": "python",
   "pygments_lexer": "ipython2",
   "version": "2.7.13"
  }
 },
 "nbformat": 4,
 "nbformat_minor": 2
}
